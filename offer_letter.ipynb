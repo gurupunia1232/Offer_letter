{
 "cells": [
  {
   "cell_type": "code",
   "execution_count": null,
   "id": "96120c5e-8d92-4358-b067-fc39d48d6d87",
   "metadata": {},
   "outputs": [],
   "source": [
    "def generate_offer_letter():\n",
    "    # Collect inputs from user\n",
    "    company_address = input(\"Enter company address: \")\n",
    "    candidate_name = input(\"Enter candidate's full name: \")\n",
    "    job_position = input(\"Enter job position: \")\n",
    "    joining_date = input(\"Enter expected joining date (DD-MM-YYYY): \")\n",
    "    compensation = input(\"Enter total compensation: \")\n",
    "    hr_email = input(\"Enter HR email address: \")\n",
    "    hr_name = input(\"Enter HR name: \")\n",
    "    hr_designation = input(\"Enter HR designation: \")\n",
    "\n",
    "    # Offer letter template\n",
    "    offer_letter = f\"\"\"\n",
    "{company_address}\n",
    "\n",
    "Dear {candidate_name},\n",
    "\n",
    "Subject: Offer of Employment for the position of {job_position}\n",
    "\n",
    "We are delighted to extend this formal offer of employment to you for the position of {job_position} at our organization. Based on your qualifications and the skills you demonstrated during the recruitment process, we are confident that you will be a valuable addition to our team.\n",
    "\n",
    "As discussed, your expected date of joining is {joining_date}. Your total compensation package will be {compensation}, which includes all salary components as per the company’s policy. Further details regarding your compensation will be provided in your employment contract.\n",
    "\n",
    "We expect you to bring your best efforts to help the company achieve its goals, and we are committed to supporting your professional growth during your time with us.\n",
    "\n",
    "Please confirm your acceptance of this offer by sending an email to {hr_email} at your earliest convenience. Should you have any queries regarding this offer, feel free to reach out to us.\n",
    "\n",
    "We look forward to having you onboard and are excited about the great things we can accomplish together.\n",
    "\n",
    "Sincerely,\n",
    "\n",
    "{hr_name}  \n",
    "{hr_designation}\n",
    "\"\"\"\n",
    "    print(\"\\n--- OFFER LETTER ---\")\n",
    "    print(offer_letter)\n",
    "\n",
    "# Run the function\n",
    "generate_offer_letter()\n"
   ]
  },
  {
   "cell_type": "code",
   "execution_count": null,
   "id": "649cfe8f-ee02-456d-9e92-0d0a944e09df",
   "metadata": {},
   "outputs": [],
   "source": []
  }
 ],
 "metadata": {
  "kernelspec": {
   "display_name": "Python [conda env:base] *",
   "language": "python",
   "name": "conda-base-py"
  },
  "language_info": {
   "codemirror_mode": {
    "name": "ipython",
    "version": 3
   },
   "file_extension": ".py",
   "mimetype": "text/x-python",
   "name": "python",
   "nbconvert_exporter": "python",
   "pygments_lexer": "ipython3",
   "version": "3.13.5"
  }
 },
 "nbformat": 4,
 "nbformat_minor": 5
}
